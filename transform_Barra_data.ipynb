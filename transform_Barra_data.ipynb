{
 "cells": [
  {
   "cell_type": "code",
   "execution_count": 11,
   "metadata": {},
   "outputs": [],
   "source": [
    "import os\n",
    "import data_processing_tool as dpt\n",
    "from datetime import timedelta, date, datetime\n",
    "# import args_parameter as args\n",
    "\n",
    "import numpy as np\n",
    "\n",
    "\n",
    "import time\n",
    "import xarray as xr\n",
    "import sys\n",
    "import data_processing_tool as dpt"
   ]
  },
  {
   "cell_type": "code",
   "execution_count": 8,
   "metadata": {},
   "outputs": [],
   "source": [
    "init_date=date(1970, 1, 1)\n",
    "start_date=date(1990, 1, 2)\n",
    "end_date=date(2012,12,25)\n",
    "import netCDF4 as nc\n",
    "if sys == \"Windows\":\n",
    "    init_date=date(1970, 1, 1)\n",
    "    start_date=date(1990, 1, 1)\n",
    "    end_date=date(1990,12,25) #if 929 is true we should substract 1 day   \n",
    "    file_ACCESS_dir=\"H:/climate/access-s1/\" \n",
    "    file_BARRA_dir=\"D:/dataset/accum_prcp/\"\n",
    "#         args.file_ACCESS_dir=\"E:/climate/access-s1/\"\n",
    "#         args.file_BARRA_dir=\"C:/Users/JIA059/barra/\"\n",
    "    file_DEM_dir=\"../DEM/\"\n",
    "else:\n",
    "    file_ACCESS_dir_pr=\"/g/data/ub7/access-s1/hc/raw_model/atmos/pr/daily/\"\n",
    "    file_ACCESS_dir=\"/g/data/ub7/access-s1/hc/raw_model/atmos/\"\n",
    "    # training_name=\"temp01\"\n",
    "    file_BARRA_dir=\"/g/data/ma05/BARRA_R/v1/forecast/spec/accum_prcp/\"\n"
   ]
  },
  {
   "cell_type": "code",
   "execution_count": 10,
   "metadata": {},
   "outputs": [],
   "source": [
    "\n",
    "\n",
    "file_BARRA_dir=\"D:/dataset/accum_prcp/\"\n",
    "dates=[start_date + timedelta(x) for x in range((end_date - start_date).days + 1)]\n",
    "for i in dates:\n",
    "    data_high=dpt.read_barra_data_fc(file_BARRA_dir,i,nine2nine=True)\n",
    "    label=dpt.map_aust(data_high,domain=[112.9, 154.25, -43.7425, -9.0])#,domain=domain)\n",
    "\n",
    "    f_w = nc.Dataset('../data/barra_aus/'+i.strftime(\"%Y%m%d\")+'.nc','w',format = 'NETCDF4')\n",
    "    f_w.createDimension('lat',len(label[\"lat\"].data))\n",
    "    f_w.createDimension('lon',len(label[\"lon\"].data))\n",
    "\n",
    "    f_w.createVariable('lat',np.float32,('lat'))\n",
    "    f_w.createVariable('lon',np.float32,('lon'))\n",
    "\n",
    "\n",
    "    f_w.variables['lat'][:] = label[\"lat\"].data\n",
    "    f_w.variables['lon'][:] = label[\"lon\"].data\n",
    "\n",
    "    f_w.createVariable( 'barra', np.float32, ('lat','lon'))\n",
    "    f_w.variables['barra'][:] = label.data\n",
    "\n",
    "    f_w.close()"
   ]
  },
  {
   "cell_type": "code",
   "execution_count": null,
   "metadata": {},
   "outputs": [],
   "source": [
    "label.data.shape"
   ]
  },
  {
   "cell_type": "code",
   "execution_count": 12,
   "metadata": {},
   "outputs": [],
   "source": [
    "\n",
    "def main():\n",
    "    print(\"start\")\n",
    "    init_date=date(1970, 1, 1)\n",
    "    start_date=date(1990, 1, 2)\n",
    "    end_date=date(2012,12,25)\n",
    "    import netCDF4 as nc\n",
    "    if sys == \"Windows\":\n",
    "        init_date=date(1970, 1, 1)\n",
    "        start_date=date(1990, 1, 1)\n",
    "        end_date=date(1990,12,25) #if 929 is true we should substract 1 day   \n",
    "        file_ACCESS_dir=\"H:/climate/access-s1/\" \n",
    "        file_BARRA_dir=\"D:/dataset/accum_prcp/\"\n",
    "    #         args.file_ACCESS_dir=\"E:/climate/access-s1/\"\n",
    "    #         args.file_BARRA_dir=\"C:/Users/JIA059/barra/\"\n",
    "        file_DEM_dir=\"../DEM/\"\n",
    "    else:\n",
    "        file_ACCESS_dir_pr=\"/g/data/ub7/access-s1/hc/raw_model/atmos/pr/daily/\"\n",
    "        file_ACCESS_dir=\"/g/data/ub7/access-s1/hc/raw_model/atmos/\"\n",
    "        # training_name=\"temp01\"\n",
    "        file_BARRA_dir=\"/g/data/ma05/BARRA_R/v1/forecast/spec/accum_prcp/\"\n",
    "\n",
    "    dates=[start_date + timedelta(x) for x in range((end_date - start_date).days + 1)]\n",
    "    for i in dates:\n",
    "        print(i)\n",
    "        data_high=dpt.read_barra_data_fc(file_BARRA_dir,i,nine2nine=True)\n",
    "        label=dpt.map_aust(data_high,domain=[112.9, 154.25, -43.7425, -9.0])#,domain=domain)\n",
    "\n",
    "        f_w = nc.Dataset('../data/barra_aus/'+i.strftime(\"%Y%m%d\")+'.nc','w',format = 'NETCDF4')\n",
    "        f_w.createDimension('lat',len(label[\"lat\"].data))\n",
    "        f_w.createDimension('lon',len(label[\"lon\"].data))\n",
    "\n",
    "        f_w.createVariable('lat',np.float32,('lat'))\n",
    "        f_w.createVariable('lon',np.float32,('lon'))\n",
    "\n",
    "\n",
    "        f_w.variables['lat'][:] = label[\"lat\"].data\n",
    "        f_w.variables['lon'][:] = label[\"lon\"].data\n",
    "\n",
    "        f_w.createVariable( 'barra', np.float32, ('lat','lon'))\n",
    "        f_w.variables['barra'][:] = label.data\n",
    "\n",
    "        f_w.close()"
   ]
  },
  {
   "cell_type": "code",
   "execution_count": 13,
   "metadata": {},
   "outputs": [
    {
     "name": "stdout",
     "output_type": "stream",
     "text": [
      "start\n",
      "1990-01-02\n"
     ]
    },
    {
     "ename": "FileNotFoundError",
     "evalue": "[Errno 2] No such file or directory: b'/g/data/ma05/BARRA_R/v1/forecast/spec/accum_prcp/1990/01/accum_prcp-fc-spec-PT1H-BARRA_R-v1.1-19900101T0600Z.sub.nc'",
     "output_type": "error",
     "traceback": [
      "\u001b[1;31m---------------------------------------------------------------------------\u001b[0m",
      "\u001b[1;31mFileNotFoundError\u001b[0m                         Traceback (most recent call last)",
      "\u001b[1;32m<ipython-input-13-263240bbee7e>\u001b[0m in \u001b[0;36m<module>\u001b[1;34m\u001b[0m\n\u001b[1;32m----> 1\u001b[1;33m \u001b[0mmain\u001b[0m\u001b[1;33m(\u001b[0m\u001b[1;33m)\u001b[0m\u001b[1;33m\u001b[0m\u001b[1;33m\u001b[0m\u001b[0m\n\u001b[0m",
      "\u001b[1;32m<ipython-input-12-33a2c8b839ca>\u001b[0m in \u001b[0;36mmain\u001b[1;34m()\u001b[0m\n\u001b[0;32m     23\u001b[0m     \u001b[1;32mfor\u001b[0m \u001b[0mi\u001b[0m \u001b[1;32min\u001b[0m \u001b[0mdates\u001b[0m\u001b[1;33m:\u001b[0m\u001b[1;33m\u001b[0m\u001b[1;33m\u001b[0m\u001b[0m\n\u001b[0;32m     24\u001b[0m         \u001b[0mprint\u001b[0m\u001b[1;33m(\u001b[0m\u001b[0mi\u001b[0m\u001b[1;33m)\u001b[0m\u001b[1;33m\u001b[0m\u001b[1;33m\u001b[0m\u001b[0m\n\u001b[1;32m---> 25\u001b[1;33m         \u001b[0mdata_high\u001b[0m\u001b[1;33m=\u001b[0m\u001b[0mdpt\u001b[0m\u001b[1;33m.\u001b[0m\u001b[0mread_barra_data_fc\u001b[0m\u001b[1;33m(\u001b[0m\u001b[0mfile_BARRA_dir\u001b[0m\u001b[1;33m,\u001b[0m\u001b[0mi\u001b[0m\u001b[1;33m,\u001b[0m\u001b[0mnine2nine\u001b[0m\u001b[1;33m=\u001b[0m\u001b[1;32mTrue\u001b[0m\u001b[1;33m)\u001b[0m\u001b[1;33m\u001b[0m\u001b[1;33m\u001b[0m\u001b[0m\n\u001b[0m\u001b[0;32m     26\u001b[0m         \u001b[0mlabel\u001b[0m\u001b[1;33m=\u001b[0m\u001b[0mdpt\u001b[0m\u001b[1;33m.\u001b[0m\u001b[0mmap_aust\u001b[0m\u001b[1;33m(\u001b[0m\u001b[0mdata_high\u001b[0m\u001b[1;33m,\u001b[0m\u001b[0mdomain\u001b[0m\u001b[1;33m=\u001b[0m\u001b[1;33m[\u001b[0m\u001b[1;36m112.9\u001b[0m\u001b[1;33m,\u001b[0m \u001b[1;36m154.25\u001b[0m\u001b[1;33m,\u001b[0m \u001b[1;33m-\u001b[0m\u001b[1;36m43.7425\u001b[0m\u001b[1;33m,\u001b[0m \u001b[1;33m-\u001b[0m\u001b[1;36m9.0\u001b[0m\u001b[1;33m]\u001b[0m\u001b[1;33m)\u001b[0m\u001b[1;31m#,domain=domain)\u001b[0m\u001b[1;33m\u001b[0m\u001b[1;33m\u001b[0m\u001b[0m\n\u001b[0;32m     27\u001b[0m \u001b[1;33m\u001b[0m\u001b[0m\n",
      "\u001b[1;32mF:\\Climate_change\\data_proccessing\\data_processing_tool.py\u001b[0m in \u001b[0;36mread_barra_data_fc\u001b[1;34m(root_dir, date_time, nine2nine, date_minus_one)\u001b[0m\n\u001b[0;32m    182\u001b[0m                 \u001b[0mfilename\u001b[0m\u001b[1;33m=\u001b[0m\u001b[0mget_file\u001b[0m\u001b[1;33m(\u001b[0m\u001b[0mroot_dir\u001b[0m\u001b[1;33m,\u001b[0m\u001b[0mdate_we_use\u001b[0m\u001b[1;33m,\u001b[0m\u001b[0mi\u001b[0m\u001b[1;33m)\u001b[0m\u001b[1;33m\u001b[0m\u001b[1;33m\u001b[0m\u001b[0m\n\u001b[0;32m    183\u001b[0m \u001b[1;33m\u001b[0m\u001b[0m\n\u001b[1;32m--> 184\u001b[1;33m                 \u001b[0mdataset\u001b[0m\u001b[1;33m=\u001b[0m\u001b[0mDataset\u001b[0m\u001b[1;33m(\u001b[0m\u001b[0mfilename\u001b[0m\u001b[1;33m)\u001b[0m\u001b[1;33m\u001b[0m\u001b[1;33m\u001b[0m\u001b[0m\n\u001b[0m\u001b[0;32m    185\u001b[0m                 \u001b[0mdaily\u001b[0m\u001b[1;33m+=\u001b[0m\u001b[0mnp\u001b[0m\u001b[1;33m.\u001b[0m\u001b[0msum\u001b[0m\u001b[1;33m(\u001b[0m\u001b[0mdataset\u001b[0m\u001b[1;33m[\u001b[0m\u001b[1;34m\"accum_prcp\"\u001b[0m\u001b[1;33m]\u001b[0m\u001b[1;33m[\u001b[0m\u001b[1;36m3\u001b[0m\u001b[1;33m:\u001b[0m\u001b[1;36m6\u001b[0m\u001b[1;33m]\u001b[0m\u001b[1;33m,\u001b[0m\u001b[0maxis\u001b[0m\u001b[1;33m=\u001b[0m\u001b[1;36m0\u001b[0m\u001b[1;33m)\u001b[0m\u001b[1;33m\u001b[0m\u001b[1;33m\u001b[0m\u001b[0m\n\u001b[0;32m    186\u001b[0m \u001b[1;31m#                 print(var.shape)\u001b[0m\u001b[1;33m\u001b[0m\u001b[1;33m\u001b[0m\u001b[1;33m\u001b[0m\u001b[0m\n",
      "\u001b[1;32mnetCDF4\\_netCDF4.pyx\u001b[0m in \u001b[0;36mnetCDF4._netCDF4.Dataset.__init__\u001b[1;34m()\u001b[0m\n",
      "\u001b[1;32mnetCDF4\\_netCDF4.pyx\u001b[0m in \u001b[0;36mnetCDF4._netCDF4._ensure_nc_success\u001b[1;34m()\u001b[0m\n",
      "\u001b[1;31mFileNotFoundError\u001b[0m: [Errno 2] No such file or directory: b'/g/data/ma05/BARRA_R/v1/forecast/spec/accum_prcp/1990/01/accum_prcp-fc-spec-PT1H-BARRA_R-v1.1-19900101T0600Z.sub.nc'"
     ]
    }
   ],
   "source": [
    "main()"
   ]
  },
  {
   "cell_type": "code",
   "execution_count": null,
   "metadata": {},
   "outputs": [],
   "source": []
  }
 ],
 "metadata": {
  "kernelspec": {
   "display_name": "Python 3",
   "language": "python",
   "name": "python3"
  },
  "language_info": {
   "codemirror_mode": {
    "name": "ipython",
    "version": 3
   },
   "file_extension": ".py",
   "mimetype": "text/x-python",
   "name": "python",
   "nbconvert_exporter": "python",
   "pygments_lexer": "ipython3",
   "version": "3.7.6"
  }
 },
 "nbformat": 4,
 "nbformat_minor": 4
}
